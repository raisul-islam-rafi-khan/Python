{
 "cells": [
  {
   "cell_type": "markdown",
   "id": "f25b8241",
   "metadata": {},
   "source": [
    "# Input Function"
   ]
  },
  {
   "cell_type": "code",
   "execution_count": 1,
   "id": "ebade4ec",
   "metadata": {},
   "outputs": [],
   "source": [
    "data='data Science fun'"
   ]
  },
  {
   "cell_type": "code",
   "execution_count": 2,
   "id": "4f2cdb0a",
   "metadata": {},
   "outputs": [
    {
     "data": {
      "text/plain": [
       "str"
      ]
     },
     "execution_count": 2,
     "metadata": {},
     "output_type": "execute_result"
    }
   ],
   "source": [
    "type(data)"
   ]
  },
  {
   "cell_type": "code",
   "execution_count": 3,
   "id": "c0db1aaa",
   "metadata": {},
   "outputs": [
    {
     "name": "stdout",
     "output_type": "stream",
     "text": [
      "data science fun!\n"
     ]
    }
   ],
   "source": [
    "data =input()"
   ]
  },
  {
   "cell_type": "code",
   "execution_count": 4,
   "id": "c65479df",
   "metadata": {},
   "outputs": [
    {
     "data": {
      "text/plain": [
       "str"
      ]
     },
     "execution_count": 4,
     "metadata": {},
     "output_type": "execute_result"
    }
   ],
   "source": [
    "type(data)"
   ]
  },
  {
   "cell_type": "code",
   "execution_count": 22,
   "id": "57fee58e",
   "metadata": {},
   "outputs": [
    {
     "name": "stdout",
     "output_type": "stream",
     "text": [
      "10\n",
      "20\n"
     ]
    }
   ],
   "source": [
    "x = input()\n",
    "y = input()"
   ]
  },
  {
   "cell_type": "code",
   "execution_count": 23,
   "id": "d61ac7c4",
   "metadata": {},
   "outputs": [
    {
     "data": {
      "text/plain": [
       "'1020'"
      ]
     },
     "execution_count": 23,
     "metadata": {},
     "output_type": "execute_result"
    }
   ],
   "source": [
    "x+y"
   ]
  },
  {
   "cell_type": "code",
   "execution_count": 24,
   "id": "3bd4e38d",
   "metadata": {},
   "outputs": [
    {
     "data": {
      "text/plain": [
       "str"
      ]
     },
     "execution_count": 24,
     "metadata": {},
     "output_type": "execute_result"
    }
   ],
   "source": [
    "type(x)"
   ]
  },
  {
   "cell_type": "code",
   "execution_count": 25,
   "id": "198b72a7",
   "metadata": {},
   "outputs": [
    {
     "data": {
      "text/plain": [
       "str"
      ]
     },
     "execution_count": 25,
     "metadata": {},
     "output_type": "execute_result"
    }
   ],
   "source": [
    "type(y)"
   ]
  },
  {
   "cell_type": "code",
   "execution_count": 26,
   "id": "534221b5",
   "metadata": {},
   "outputs": [],
   "source": [
    "x = int(x)\n",
    "y = int(y)"
   ]
  },
  {
   "cell_type": "code",
   "execution_count": 27,
   "id": "663e5ec9",
   "metadata": {},
   "outputs": [
    {
     "data": {
      "text/plain": [
       "30"
      ]
     },
     "execution_count": 27,
     "metadata": {},
     "output_type": "execute_result"
    }
   ],
   "source": [
    "x+y"
   ]
  },
  {
   "cell_type": "code",
   "execution_count": 28,
   "id": "7b12e296",
   "metadata": {},
   "outputs": [
    {
     "data": {
      "text/plain": [
       "int"
      ]
     },
     "execution_count": 28,
     "metadata": {},
     "output_type": "execute_result"
    }
   ],
   "source": [
    "type(x)"
   ]
  },
  {
   "cell_type": "code",
   "execution_count": 32,
   "id": "39d83be5",
   "metadata": {},
   "outputs": [
    {
     "name": "stdout",
     "output_type": "stream",
     "text": [
      "Enter your first number600\n"
     ]
    }
   ],
   "source": [
    "x = int(input(\"Enter your first number\"))"
   ]
  },
  {
   "cell_type": "code",
   "execution_count": 33,
   "id": "6eb86e97",
   "metadata": {},
   "outputs": [
    {
     "data": {
      "text/plain": [
       "600"
      ]
     },
     "execution_count": 33,
     "metadata": {},
     "output_type": "execute_result"
    }
   ],
   "source": [
    "x"
   ]
  },
  {
   "cell_type": "code",
   "execution_count": 34,
   "id": "6fd95633",
   "metadata": {},
   "outputs": [
    {
     "name": "stdout",
     "output_type": "stream",
     "text": [
      "Enter your 2nd Number3.55\n"
     ]
    }
   ],
   "source": [
    "y = float(input(\"Enter your 2nd Number\"))"
   ]
  },
  {
   "cell_type": "code",
   "execution_count": 35,
   "id": "9d2c73e1",
   "metadata": {},
   "outputs": [
    {
     "data": {
      "text/plain": [
       "3.55"
      ]
     },
     "execution_count": 35,
     "metadata": {},
     "output_type": "execute_result"
    }
   ],
   "source": [
    "y"
   ]
  },
  {
   "cell_type": "code",
   "execution_count": 36,
   "id": "f238a0b4",
   "metadata": {},
   "outputs": [
    {
     "data": {
      "text/plain": [
       "603.55"
      ]
     },
     "execution_count": 36,
     "metadata": {},
     "output_type": "execute_result"
    }
   ],
   "source": [
    "x+y"
   ]
  },
  {
   "cell_type": "code",
   "execution_count": 37,
   "id": "e4377905",
   "metadata": {},
   "outputs": [
    {
     "data": {
      "text/plain": [
       "1200"
      ]
     },
     "execution_count": 37,
     "metadata": {},
     "output_type": "execute_result"
    }
   ],
   "source": [
    "x+x"
   ]
  },
  {
   "cell_type": "markdown",
   "id": "95682004",
   "metadata": {},
   "source": [
    "# String"
   ]
  },
  {
   "cell_type": "code",
   "execution_count": 38,
   "id": "f94ce84b",
   "metadata": {},
   "outputs": [],
   "source": [
    "data = '60 days of Python'"
   ]
  },
  {
   "cell_type": "code",
   "execution_count": 39,
   "id": "66c65c0c",
   "metadata": {},
   "outputs": [
    {
     "data": {
      "text/plain": [
       "str"
      ]
     },
     "execution_count": 39,
     "metadata": {},
     "output_type": "execute_result"
    }
   ],
   "source": [
    "type(data)"
   ]
  },
  {
   "cell_type": "code",
   "execution_count": 40,
   "id": "b524edc8",
   "metadata": {},
   "outputs": [
    {
     "data": {
      "text/plain": [
       "17"
      ]
     },
     "execution_count": 40,
     "metadata": {},
     "output_type": "execute_result"
    }
   ],
   "source": [
    "len(data)"
   ]
  },
  {
   "cell_type": "code",
   "execution_count": 41,
   "id": "87268a7b",
   "metadata": {},
   "outputs": [
    {
     "data": {
      "text/plain": [
       "66"
      ]
     },
     "execution_count": 41,
     "metadata": {},
     "output_type": "execute_result"
    }
   ],
   "source": [
    "import sys\n",
    "sys.getsizeof(data)"
   ]
  },
  {
   "cell_type": "code",
   "execution_count": 43,
   "id": "3e22faf0",
   "metadata": {},
   "outputs": [
    {
     "data": {
      "text/plain": [
       "1"
      ]
     },
     "execution_count": 43,
     "metadata": {},
     "output_type": "execute_result"
    }
   ],
   "source": [
    "data.count('Python')"
   ]
  },
  {
   "cell_type": "code",
   "execution_count": 46,
   "id": "32a37772",
   "metadata": {},
   "outputs": [],
   "source": [
    "sub = 'days of'"
   ]
  },
  {
   "cell_type": "code",
   "execution_count": 47,
   "id": "93669d7e",
   "metadata": {},
   "outputs": [
    {
     "data": {
      "text/plain": [
       "1"
      ]
     },
     "execution_count": 47,
     "metadata": {},
     "output_type": "execute_result"
    }
   ],
   "source": [
    "data.count(sub)"
   ]
  },
  {
   "cell_type": "markdown",
   "id": "cf9e24a9",
   "metadata": {},
   "source": [
    "# Python String Method"
   ]
  },
  {
   "cell_type": "code",
   "execution_count": 51,
   "id": "adf73a6d",
   "metadata": {},
   "outputs": [
    {
     "data": {
      "text/plain": [
       "8"
      ]
     },
     "execution_count": 51,
     "metadata": {},
     "output_type": "execute_result"
    }
   ],
   "source": [
    "data ='60 days of Python'\n",
    "data.find('of')"
   ]
  },
  {
   "cell_type": "code",
   "execution_count": 52,
   "id": "63b87545",
   "metadata": {},
   "outputs": [
    {
     "data": {
      "text/plain": [
       "11"
      ]
     },
     "execution_count": 52,
     "metadata": {},
     "output_type": "execute_result"
    }
   ],
   "source": [
    "data.find('Python')#find value from string"
   ]
  },
  {
   "cell_type": "code",
   "execution_count": 55,
   "id": "a5a44b7a",
   "metadata": {},
   "outputs": [
    {
     "name": "stdout",
     "output_type": "stream",
     "text": [
      "Raisul Islam Rafi\n"
     ]
    }
   ],
   "source": [
    "print('Raisul Islam Rafi')"
   ]
  },
  {
   "cell_type": "code",
   "execution_count": 58,
   "id": "93716156",
   "metadata": {},
   "outputs": [
    {
     "data": {
      "text/plain": [
       "7"
      ]
     },
     "execution_count": 58,
     "metadata": {},
     "output_type": "execute_result"
    }
   ],
   "source": [
    "data ='Raisul Islam Rafi'\n",
    "data.find('Islam')"
   ]
  },
  {
   "cell_type": "code",
   "execution_count": 66,
   "id": "78b210f3",
   "metadata": {},
   "outputs": [
    {
     "data": {
      "text/plain": [
       "-1"
      ]
     },
     "execution_count": 66,
     "metadata": {},
     "output_type": "execute_result"
    }
   ],
   "source": [
    "data.find('f',4,12)#not exist"
   ]
  },
  {
   "cell_type": "code",
   "execution_count": 62,
   "id": "17b50c75",
   "metadata": {},
   "outputs": [
    {
     "data": {
      "text/plain": [
       "15"
      ]
     },
     "execution_count": 62,
     "metadata": {},
     "output_type": "execute_result"
    }
   ],
   "source": [
    "data.find('f',4,19)"
   ]
  },
  {
   "cell_type": "code",
   "execution_count": 63,
   "id": "2bafabe0",
   "metadata": {},
   "outputs": [
    {
     "data": {
      "text/plain": [
       "3"
      ]
     },
     "execution_count": 63,
     "metadata": {},
     "output_type": "execute_result"
    }
   ],
   "source": [
    "data.find('s')"
   ]
  },
  {
   "cell_type": "code",
   "execution_count": 65,
   "id": "a242238a",
   "metadata": {},
   "outputs": [
    {
     "data": {
      "text/plain": [
       "3"
      ]
     },
     "execution_count": 65,
     "metadata": {},
     "output_type": "execute_result"
    }
   ],
   "source": [
    "data.index('s')"
   ]
  },
  {
   "cell_type": "code",
   "execution_count": 68,
   "id": "57c013c0",
   "metadata": {},
   "outputs": [
    {
     "ename": "ValueError",
     "evalue": "substring not found",
     "output_type": "error",
     "traceback": [
      "\u001b[1;31m---------------------------------------------------------------------------\u001b[0m",
      "\u001b[1;31mValueError\u001b[0m                                Traceback (most recent call last)",
      "\u001b[1;32m~\\AppData\\Local\\Temp\\ipykernel_9968\\4131838597.py\u001b[0m in \u001b[0;36m<module>\u001b[1;34m\u001b[0m\n\u001b[1;32m----> 1\u001b[1;33m \u001b[0mdata\u001b[0m\u001b[1;33m.\u001b[0m\u001b[0mindex\u001b[0m\u001b[1;33m(\u001b[0m\u001b[1;34m'lb'\u001b[0m\u001b[1;33m)\u001b[0m\u001b[1;33m\u001b[0m\u001b[1;33m\u001b[0m\u001b[0m\n\u001b[0m",
      "\u001b[1;31mValueError\u001b[0m: substring not found"
     ]
    }
   ],
   "source": [
    "data.index('lb')"
   ]
  },
  {
   "cell_type": "code",
   "execution_count": 69,
   "id": "584c20f6",
   "metadata": {},
   "outputs": [
    {
     "data": {
      "text/plain": [
       "'raisul islam rafi'"
      ]
     },
     "execution_count": 69,
     "metadata": {},
     "output_type": "execute_result"
    }
   ],
   "source": [
    "data.lower()#convert all into lower case"
   ]
  },
  {
   "cell_type": "code",
   "execution_count": 70,
   "id": "c0e6050f",
   "metadata": {},
   "outputs": [
    {
     "data": {
      "text/plain": [
       "'RAISUL ISLAM RAFI'"
      ]
     },
     "execution_count": 70,
     "metadata": {},
     "output_type": "execute_result"
    }
   ],
   "source": [
    "data.upper()#convert all into Upper case"
   ]
  },
  {
   "cell_type": "code",
   "execution_count": 71,
   "id": "14f25ca0",
   "metadata": {},
   "outputs": [
    {
     "data": {
      "text/plain": [
       "'raisul islam rafi'"
      ]
     },
     "execution_count": 71,
     "metadata": {},
     "output_type": "execute_result"
    }
   ],
   "source": [
    "data.casefold()#lower"
   ]
  },
  {
   "cell_type": "code",
   "execution_count": 74,
   "id": "dc6ed356",
   "metadata": {},
   "outputs": [
    {
     "data": {
      "text/plain": [
       "'Raisul islam rafi'"
      ]
     },
     "execution_count": 74,
     "metadata": {},
     "output_type": "execute_result"
    }
   ],
   "source": [
    "data.capitalize()#only 1st word is an uppercase"
   ]
  },
  {
   "cell_type": "code",
   "execution_count": 77,
   "id": "34cc4957",
   "metadata": {},
   "outputs": [
    {
     "data": {
      "text/plain": [
       "'rAISUL iSLAM rAFI'"
      ]
     },
     "execution_count": 77,
     "metadata": {},
     "output_type": "execute_result"
    }
   ],
   "source": [
    "data.swapcase()#word change or swap "
   ]
  },
  {
   "cell_type": "code",
   "execution_count": 78,
   "id": "74666cd6",
   "metadata": {},
   "outputs": [
    {
     "data": {
      "text/plain": [
       "'Raisul Islam Rafi'"
      ]
     },
     "execution_count": 78,
     "metadata": {},
     "output_type": "execute_result"
    }
   ],
   "source": [
    "data.title()#only 1st one is upper cse ina an word"
   ]
  },
  {
   "cell_type": "code",
   "execution_count": 80,
   "id": "69aeea91",
   "metadata": {},
   "outputs": [
    {
     "data": {
      "text/plain": [
       "False"
      ]
     },
     "execution_count": 80,
     "metadata": {},
     "output_type": "execute_result"
    }
   ],
   "source": [
    "data.islower()"
   ]
  },
  {
   "cell_type": "code",
   "execution_count": 82,
   "id": "03fa60e5",
   "metadata": {},
   "outputs": [
    {
     "data": {
      "text/plain": [
       "False"
      ]
     },
     "execution_count": 82,
     "metadata": {},
     "output_type": "execute_result"
    }
   ],
   "source": [
    "data.isupper()"
   ]
  },
  {
   "cell_type": "code",
   "execution_count": 83,
   "id": "759168a8",
   "metadata": {},
   "outputs": [
    {
     "data": {
      "text/plain": [
       "False"
      ]
     },
     "execution_count": 83,
     "metadata": {},
     "output_type": "execute_result"
    }
   ],
   "source": [
    "data.isdigit()"
   ]
  },
  {
   "cell_type": "code",
   "execution_count": 85,
   "id": "d0455863",
   "metadata": {},
   "outputs": [
    {
     "data": {
      "text/plain": [
       "b'Raisul Islam Rafi'"
      ]
     },
     "execution_count": 85,
     "metadata": {},
     "output_type": "execute_result"
    }
   ],
   "source": [
    "data.encode()"
   ]
  },
  {
   "cell_type": "code",
   "execution_count": 88,
   "id": "8fc82b3b",
   "metadata": {},
   "outputs": [
    {
     "data": {
      "text/plain": [
       "bytes"
      ]
     },
     "execution_count": 88,
     "metadata": {},
     "output_type": "execute_result"
    }
   ],
   "source": [
    "type(data.encode())"
   ]
  },
  {
   "cell_type": "code",
   "execution_count": 89,
   "id": "b3b19de9",
   "metadata": {},
   "outputs": [
    {
     "data": {
      "text/plain": [
       "'Raisul Islam Rafi'"
      ]
     },
     "execution_count": 89,
     "metadata": {},
     "output_type": "execute_result"
    }
   ],
   "source": [
    "data"
   ]
  },
  {
   "cell_type": "code",
   "execution_count": 90,
   "id": "4ee1228a",
   "metadata": {},
   "outputs": [
    {
     "data": {
      "text/plain": [
       "['Raisul', 'Islam', 'Rafi']"
      ]
     },
     "execution_count": 90,
     "metadata": {},
     "output_type": "execute_result"
    }
   ],
   "source": [
    "data.split()"
   ]
  },
  {
   "cell_type": "code",
   "execution_count": 91,
   "id": "ca13c7dc",
   "metadata": {},
   "outputs": [
    {
     "data": {
      "text/plain": [
       "'Raisul'"
      ]
     },
     "execution_count": 91,
     "metadata": {},
     "output_type": "execute_result"
    }
   ],
   "source": [
    "data.split()[0]"
   ]
  },
  {
   "cell_type": "code",
   "execution_count": 92,
   "id": "58ade478",
   "metadata": {
    "scrolled": true
   },
   "outputs": [
    {
     "data": {
      "text/plain": [
       "'Rafi'"
      ]
     },
     "execution_count": 92,
     "metadata": {},
     "output_type": "execute_result"
    }
   ],
   "source": [
    "data.split()[2]"
   ]
  },
  {
   "cell_type": "code",
   "execution_count": 94,
   "id": "f5cf04f5",
   "metadata": {},
   "outputs": [
    {
     "data": {
      "text/plain": [
       "'                Raisul Islam Rafi                 '"
      ]
     },
     "execution_count": 94,
     "metadata": {},
     "output_type": "execute_result"
    }
   ],
   "source": [
    "data.center(50)"
   ]
  },
  {
   "cell_type": "code",
   "execution_count": 96,
   "id": "07d27b7d",
   "metadata": {},
   "outputs": [
    {
     "data": {
      "text/plain": [
       "'KHAN Islam Rafi'"
      ]
     },
     "execution_count": 96,
     "metadata": {},
     "output_type": "execute_result"
    }
   ],
   "source": [
    "data.replace('Raisul','KHAN')"
   ]
  },
  {
   "cell_type": "code",
   "execution_count": 100,
   "id": "03e5d07b",
   "metadata": {},
   "outputs": [
    {
     "name": "stdout",
     "output_type": "stream",
     "text": [
      "I have 1000 taka\n"
     ]
    }
   ],
   "source": [
    "x =10\n",
    "y =100\n",
    "z =x*y\n",
    "\n",
    "print('I have',z,'taka')"
   ]
  },
  {
   "cell_type": "code",
   "execution_count": 101,
   "id": "d6eb519b",
   "metadata": {},
   "outputs": [
    {
     "name": "stdout",
     "output_type": "stream",
     "text": [
      "I have 1000 taka\n"
     ]
    }
   ],
   "source": [
    "print('I have {} taka'.format(z))"
   ]
  },
  {
   "cell_type": "code",
   "execution_count": null,
   "id": "1611d404",
   "metadata": {},
   "outputs": [],
   "source": []
  }
 ],
 "metadata": {
  "kernelspec": {
   "display_name": "Python 3 (ipykernel)",
   "language": "python",
   "name": "python3"
  },
  "language_info": {
   "codemirror_mode": {
    "name": "ipython",
    "version": 3
   },
   "file_extension": ".py",
   "mimetype": "text/x-python",
   "name": "python",
   "nbconvert_exporter": "python",
   "pygments_lexer": "ipython3",
   "version": "3.9.13"
  }
 },
 "nbformat": 4,
 "nbformat_minor": 5
}
