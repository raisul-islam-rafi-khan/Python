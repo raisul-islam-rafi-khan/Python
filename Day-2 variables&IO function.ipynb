{
 "cells": [
  {
   "cell_type": "code",
   "execution_count": 1,
   "id": "9864f2b2",
   "metadata": {},
   "outputs": [
    {
     "data": {
      "text/plain": [
       "'data science'"
      ]
     },
     "execution_count": 1,
     "metadata": {},
     "output_type": "execute_result"
    }
   ],
   "source": [
    "'data science'"
   ]
  },
  {
   "cell_type": "code",
   "execution_count": 6,
   "id": "93ed6138",
   "metadata": {},
   "outputs": [
    {
     "name": "stdout",
     "output_type": "stream",
     "text": [
      "Hello World\n"
     ]
    }
   ],
   "source": [
    "print(\"Hello World\",sep ='&')"
   ]
  },
  {
   "cell_type": "code",
   "execution_count": 9,
   "id": "e7ae09cf",
   "metadata": {},
   "outputs": [
    {
     "name": "stdout",
     "output_type": "stream",
     "text": [
      "var\n"
     ]
    }
   ],
   "source": [
    "var=\"Hello World\"\n",
    "print('var')"
   ]
  },
  {
   "cell_type": "code",
   "execution_count": 12,
   "id": "dd1f0d17",
   "metadata": {},
   "outputs": [
    {
     "name": "stdout",
     "output_type": "stream",
     "text": [
      "Hello World\n",
      "My sentence is Hello World\n"
     ]
    }
   ],
   "source": [
    "var=\"Hello World\"\n",
    "print(var)\n",
    "\n",
    "print(\"My sentence is \" +var)"
   ]
  },
  {
   "cell_type": "code",
   "execution_count": 13,
   "id": "470d26a4",
   "metadata": {},
   "outputs": [
    {
     "data": {
      "text/plain": [
       "2803382104624"
      ]
     },
     "execution_count": 13,
     "metadata": {},
     "output_type": "execute_result"
    }
   ],
   "source": [
    "id(var)"
   ]
  },
  {
   "cell_type": "code",
   "execution_count": 14,
   "id": "cf733c86",
   "metadata": {},
   "outputs": [
    {
     "data": {
      "text/plain": [
       "60"
      ]
     },
     "execution_count": 14,
     "metadata": {},
     "output_type": "execute_result"
    }
   ],
   "source": [
    "import sys\n",
    "sys.getsizeof(var)"
   ]
  },
  {
   "cell_type": "code",
   "execution_count": 15,
   "id": "f68c10e8",
   "metadata": {},
   "outputs": [],
   "source": [
    "x=100"
   ]
  },
  {
   "cell_type": "code",
   "execution_count": 16,
   "id": "c4bde8a5",
   "metadata": {},
   "outputs": [
    {
     "data": {
      "text/plain": [
       "100"
      ]
     },
     "execution_count": 16,
     "metadata": {},
     "output_type": "execute_result"
    }
   ],
   "source": [
    "x"
   ]
  },
  {
   "cell_type": "code",
   "execution_count": 17,
   "id": "1558246d",
   "metadata": {},
   "outputs": [],
   "source": [
    "y=100"
   ]
  },
  {
   "cell_type": "code",
   "execution_count": 18,
   "id": "d977e10b",
   "metadata": {},
   "outputs": [
    {
     "data": {
      "text/plain": [
       "100"
      ]
     },
     "execution_count": 18,
     "metadata": {},
     "output_type": "execute_result"
    }
   ],
   "source": [
    "y"
   ]
  },
  {
   "cell_type": "code",
   "execution_count": 19,
   "id": "596bb50a",
   "metadata": {},
   "outputs": [
    {
     "data": {
      "text/plain": [
       "2803296654800"
      ]
     },
     "execution_count": 19,
     "metadata": {},
     "output_type": "execute_result"
    }
   ],
   "source": [
    "id(x)"
   ]
  },
  {
   "cell_type": "code",
   "execution_count": 20,
   "id": "b07a3407",
   "metadata": {},
   "outputs": [
    {
     "data": {
      "text/plain": [
       "2803296654800"
      ]
     },
     "execution_count": 20,
     "metadata": {},
     "output_type": "execute_result"
    }
   ],
   "source": [
    "id(y)"
   ]
  },
  {
   "cell_type": "code",
   "execution_count": 21,
   "id": "a33e73cd",
   "metadata": {},
   "outputs": [],
   "source": [
    "x=1000\n",
    "y=1000"
   ]
  },
  {
   "cell_type": "code",
   "execution_count": 23,
   "id": "4ce7d244",
   "metadata": {},
   "outputs": [
    {
     "data": {
      "text/plain": [
       "2803382108688"
      ]
     },
     "execution_count": 23,
     "metadata": {},
     "output_type": "execute_result"
    }
   ],
   "source": [
    "id(x)"
   ]
  },
  {
   "cell_type": "code",
   "execution_count": 24,
   "id": "efd65cf1",
   "metadata": {},
   "outputs": [
    {
     "data": {
      "text/plain": [
       "2803382109680"
      ]
     },
     "execution_count": 24,
     "metadata": {},
     "output_type": "execute_result"
    }
   ],
   "source": [
    "id(y)"
   ]
  },
  {
   "cell_type": "code",
   "execution_count": 25,
   "id": "e551e78d",
   "metadata": {},
   "outputs": [],
   "source": [
    "name='Raisul Islam Rafi'"
   ]
  },
  {
   "cell_type": "code",
   "execution_count": 26,
   "id": "6e327c0e",
   "metadata": {},
   "outputs": [
    {
     "data": {
      "text/plain": [
       "'Raisul Islam Rafi'"
      ]
     },
     "execution_count": 26,
     "metadata": {},
     "output_type": "execute_result"
    }
   ],
   "source": [
    "name"
   ]
  },
  {
   "cell_type": "code",
   "execution_count": 27,
   "id": "da74e7b4",
   "metadata": {},
   "outputs": [],
   "source": [
    "var9 ='khan'"
   ]
  },
  {
   "cell_type": "code",
   "execution_count": 28,
   "id": "2550f3ba",
   "metadata": {},
   "outputs": [
    {
     "data": {
      "text/plain": [
       "'khan'"
      ]
     },
     "execution_count": 28,
     "metadata": {},
     "output_type": "execute_result"
    }
   ],
   "source": [
    "var9"
   ]
  },
  {
   "cell_type": "code",
   "execution_count": 31,
   "id": "8c622191",
   "metadata": {},
   "outputs": [],
   "source": [
    "var_2=100"
   ]
  },
  {
   "cell_type": "code",
   "execution_count": 32,
   "id": "ac46d1a4",
   "metadata": {},
   "outputs": [
    {
     "data": {
      "text/plain": [
       "100"
      ]
     },
     "execution_count": 32,
     "metadata": {},
     "output_type": "execute_result"
    }
   ],
   "source": [
    "var_2"
   ]
  },
  {
   "cell_type": "code",
   "execution_count": 37,
   "id": "cac9b7c1",
   "metadata": {},
   "outputs": [],
   "source": [
    "x,y,z=10,100,1000"
   ]
  },
  {
   "cell_type": "code",
   "execution_count": 38,
   "id": "5aeb4b0e",
   "metadata": {},
   "outputs": [
    {
     "data": {
      "text/plain": [
       "1000"
      ]
     },
     "execution_count": 38,
     "metadata": {},
     "output_type": "execute_result"
    }
   ],
   "source": [
    "z"
   ]
  },
  {
   "cell_type": "code",
   "execution_count": 39,
   "id": "e53cbba8",
   "metadata": {},
   "outputs": [
    {
     "data": {
      "text/plain": [
       "100"
      ]
     },
     "execution_count": 39,
     "metadata": {},
     "output_type": "execute_result"
    }
   ],
   "source": [
    "y"
   ]
  },
  {
   "cell_type": "code",
   "execution_count": 41,
   "id": "bf8df937",
   "metadata": {},
   "outputs": [
    {
     "data": {
      "text/plain": [
       "100"
      ]
     },
     "execution_count": 41,
     "metadata": {},
     "output_type": "execute_result"
    }
   ],
   "source": [
    "var_2"
   ]
  },
  {
   "cell_type": "code",
   "execution_count": 42,
   "id": "ffd71bbe",
   "metadata": {},
   "outputs": [],
   "source": [
    "x=1\n",
    "X=2"
   ]
  },
  {
   "cell_type": "code",
   "execution_count": 43,
   "id": "c5319d6b",
   "metadata": {},
   "outputs": [
    {
     "data": {
      "text/plain": [
       "2"
      ]
     },
     "execution_count": 43,
     "metadata": {},
     "output_type": "execute_result"
    }
   ],
   "source": [
    "X"
   ]
  },
  {
   "cell_type": "code",
   "execution_count": 44,
   "id": "da71a0a9",
   "metadata": {},
   "outputs": [
    {
     "data": {
      "text/plain": [
       "1"
      ]
     },
     "execution_count": 44,
     "metadata": {},
     "output_type": "execute_result"
    }
   ],
   "source": [
    "x"
   ]
  },
  {
   "cell_type": "code",
   "execution_count": 49,
   "id": "25dfd308",
   "metadata": {},
   "outputs": [],
   "source": [
    "VARSITY_ID=191_15_2578"
   ]
  },
  {
   "cell_type": "code",
   "execution_count": 50,
   "id": "b16cdd31",
   "metadata": {},
   "outputs": [
    {
     "data": {
      "text/plain": [
       "191152578"
      ]
     },
     "execution_count": 50,
     "metadata": {},
     "output_type": "execute_result"
    }
   ],
   "source": [
    "VARSITY_ID"
   ]
  },
  {
   "cell_type": "markdown",
   "id": "0dd572a9",
   "metadata": {},
   "source": [
    "# Local VS Global"
   ]
  },
  {
   "cell_type": "code",
   "execution_count": 55,
   "id": "0f149874",
   "metadata": {},
   "outputs": [
    {
     "name": "stdout",
     "output_type": "stream",
     "text": [
      "my num is:  1000\n",
      "my num is:  2\n"
     ]
    }
   ],
   "source": [
    "x=1000 #global\n",
    "y=200\n",
    "def func1():\n",
    "    print(\"my num is: \",x)\n",
    "func1()\n",
    "print(\"my num is: \",X)"
   ]
  },
  {
   "cell_type": "code",
   "execution_count": 59,
   "id": "f3e3bcb7",
   "metadata": {},
   "outputs": [
    {
     "name": "stdout",
     "output_type": "stream",
     "text": [
      "my num is:  500\n",
      "my num is:  500\n"
     ]
    }
   ],
   "source": [
    "def func1():\n",
    "    global x\n",
    "    x=500#local\n",
    "    print(\"my num is: \",x)\n",
    "func1()\n",
    "print(\"my num is: \",x)"
   ]
  },
  {
   "cell_type": "code",
   "execution_count": null,
   "id": "132ab769",
   "metadata": {},
   "outputs": [],
   "source": []
  }
 ],
 "metadata": {
  "kernelspec": {
   "display_name": "Python 3 (ipykernel)",
   "language": "python",
   "name": "python3"
  },
  "language_info": {
   "codemirror_mode": {
    "name": "ipython",
    "version": 3
   },
   "file_extension": ".py",
   "mimetype": "text/x-python",
   "name": "python",
   "nbconvert_exporter": "python",
   "pygments_lexer": "ipython3",
   "version": "3.9.13"
  }
 },
 "nbformat": 4,
 "nbformat_minor": 5
}
